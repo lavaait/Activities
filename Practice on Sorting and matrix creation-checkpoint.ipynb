{
 "cells": [
  {
   "cell_type": "code",
   "execution_count": 1,
   "metadata": {},
   "outputs": [],
   "source": [
    "## sorting without the sort function\n"
   ]
  },
  {
   "cell_type": "code",
   "execution_count": 13,
   "metadata": {},
   "outputs": [
    {
     "name": "stdout",
     "output_type": "stream",
     "text": [
      "mylist: [1, 8, 5, 7, 13, 9]\n",
      "Sorted_mylist: [1, 5, 7, 8, 9, 13]\n"
     ]
    }
   ],
   "source": [
    "mylist = [1, 8, 5, 7, 13, 9]\n",
    "print(\"mylist:\",mylist)\n",
    "n = len(mylist)\n",
    "for i in range(n):\n",
    "    for j in range(1, n-i):\n",
    "        if mylist[j-1] > mylist[j]:\n",
    "            (mylist[j-1], mylist[j]) = (mylist[j], mylist[j-1])\n",
    "print(\"Sorted_mylist:\",mylist)"
   ]
  },
  {
   "cell_type": "code",
   "execution_count": 33,
   "metadata": {},
   "outputs": [],
   "source": [
    "## matrix creation in clockwise direction"
   ]
  },
  {
   "cell_type": "code",
   "execution_count": 81,
   "metadata": {},
   "outputs": [
    {
     "name": "stdout",
     "output_type": "stream",
     "text": [
      "4*4 matrix: [[1, 2, 3, 4], [12, 13, 14, 5], [11, 16, 15, 6], [10, 9, 8, 7]]\n",
      "3*3 matrix: [[1, 2, 3], [8, 9, 4], [7, 6, 5]]\n",
      "2*2 matrix: [[1, 2], [4, 3]]\n"
     ]
    }
   ],
   "source": [
    "import numpy as np\n",
    "\n",
    "def Matrix(n):\n",
    "        if n<=0:\n",
    "            return [] \n",
    "\n",
    "        matrix=[row[:] for row in [[1]*n]*n]\n",
    "        \n",
    "        row_st=0\n",
    "        row_ed=n-1\n",
    "        \n",
    "        col_st=0\n",
    "        col_ed=n-1\n",
    "        current=1\n",
    "        \n",
    "        while (True):\n",
    "            if current>n*n:\n",
    "                break\n",
    "            for c in range (col_st, col_ed+1):\n",
    "                matrix[row_st][c]=current\n",
    "                current+=1\n",
    "            row_st+=1\n",
    "            for r in range (row_st, row_ed+1):\n",
    "                matrix[r][col_ed]=current\n",
    "                current+=1\n",
    "            col_ed-=1\n",
    "            for c in range (col_ed, col_st-1, -1):\n",
    "                matrix[row_ed][c]=current\n",
    "                current+=1\n",
    "            row_ed-=1\n",
    "            for r in range (row_ed, row_st-1, -1):\n",
    "                matrix[r][col_st]=current\n",
    "                current+=1\n",
    "            col_st+=1\n",
    "        return matrix\n",
    "print(\"4*4 matrix:\",list(Matrix(4)))\n",
    "print(\"3*3 matrix:\",list(Matrix(3)))\n",
    "print(\"2*2 matrix:\",list(Matrix(2)))\n"
   ]
  },
  {
   "cell_type": "code",
   "execution_count": 25,
   "metadata": {},
   "outputs": [
    {
     "data": {
      "text/plain": [
       "array([[ 1,  2,  3,  4],\n",
       "       [12, 13, 14,  5],\n",
       "       [11, 16, 15,  6],\n",
       "       [10,  9,  8,  7]])"
      ]
     },
     "execution_count": 25,
     "metadata": {},
     "output_type": "execute_result"
    }
   ],
   "source": [
    "A=np.array([[1, 2, 3, 4], [12, 13, 14, 5], [11, 16, 15, 6], [10, 9, 8, 7]])\n",
    "A"
   ]
  },
  {
   "cell_type": "code",
   "execution_count": 26,
   "metadata": {},
   "outputs": [
    {
     "data": {
      "text/plain": [
       "array([[1, 2, 3],\n",
       "       [8, 9, 4],\n",
       "       [7, 6, 5]])"
      ]
     },
     "execution_count": 26,
     "metadata": {},
     "output_type": "execute_result"
    }
   ],
   "source": [
    "B=np.array([[1, 2, 3], [8, 9, 4], [7, 6, 5]])\n",
    "B"
   ]
  },
  {
   "cell_type": "code",
   "execution_count": 27,
   "metadata": {},
   "outputs": [
    {
     "data": {
      "text/plain": [
       "array([[1, 2],\n",
       "       [4, 3]])"
      ]
     },
     "execution_count": 27,
     "metadata": {},
     "output_type": "execute_result"
    }
   ],
   "source": [
    "C=np.array([[1, 2], [4, 3]])\n",
    "C"
   ]
  },
  {
   "cell_type": "code",
   "execution_count": null,
   "metadata": {},
   "outputs": [],
   "source": []
  },
  {
   "cell_type": "code",
   "execution_count": null,
   "metadata": {},
   "outputs": [],
   "source": []
  },
  {
   "cell_type": "code",
   "execution_count": null,
   "metadata": {},
   "outputs": [],
   "source": [
    " "
   ]
  },
  {
   "cell_type": "code",
   "execution_count": null,
   "metadata": {},
   "outputs": [],
   "source": []
  },
  {
   "cell_type": "code",
   "execution_count": null,
   "metadata": {},
   "outputs": [],
   "source": []
  }
 ],
 "metadata": {
  "kernelspec": {
   "display_name": "Python 3",
   "language": "python",
   "name": "python3"
  },
  "language_info": {
   "codemirror_mode": {
    "name": "ipython",
    "version": 3
   },
   "file_extension": ".py",
   "mimetype": "text/x-python",
   "name": "python",
   "nbconvert_exporter": "python",
   "pygments_lexer": "ipython3",
   "version": "3.7.3"
  }
 },
 "nbformat": 4,
 "nbformat_minor": 2
}
